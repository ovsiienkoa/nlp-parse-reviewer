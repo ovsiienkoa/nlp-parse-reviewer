{
 "cells": [
  {
   "metadata": {},
   "cell_type": "markdown",
   "source": [
    "insights (embeddinggemma-300m-haystack-contrastive-thin-fixed):\n",
    "\n",
    "County relations should be investigated, because train dataset contains only 'Collier'\n",
    "\n",
    "* H0: the embedding space changed not only 'Collier' but all counties as a concept\n",
    "\n",
    "* H1: the model was overfitted on 1 exact county\n",
    "\n",
    "\n",
    "H0 was tested on only 1 example with 'Dallas' county and showed that H0 is might be true.\n",
    "\n",
    "* H0: model checks only for the corresponding presence of county, it doesn't care if county remains the same\n",
    "\n",
    "* H1: model checks whether the county remains the same\n",
    "\n",
    "\n",
    "H0 was also tested on only 1 example of changing county in output_text from 'Collier' to 'Dallas'. It seems that it's might be false and model cares whether the county remains the same. The problem is, distribution on angles slightly differs, so model still has to see different counties (at least 2) in training set!-> H1\n",
    "\n",
    "The cool thing about gemma is brand-new Matryoshka architecture inside. We can utilize just fraction of a model and embedding dimensions to process text with almost the same results.\n",
    "\n",
    "The finetuned model still has Matryoshka properties even without additional matryoshka loss during training."
   ],
   "id": "b21c5528bdbdb52a"
  },
  {
   "metadata": {},
   "cell_type": "markdown",
   "source": [
    "ML Notes:\n",
    "* It's possible to make model more stable and increase excess of cosine distribution a little with paying the price of maximum performance\n",
    "* Should consider optimize Matryoshka with different losses in hierarchical embeddings, maybe it could lead to better utilization of classification head\n",
    "* Definitely to add different names of counties in dataset. It's wonderful that model has already figured out the rules on its own, but reinforcement won't bother"
   ],
   "id": "a1f08df3c6c10599"
  },
  {
   "metadata": {},
   "cell_type": "markdown",
   "source": "Recreating train_test sets",
   "id": "198c3f21d87e417"
  },
  {
   "cell_type": "code",
   "id": "initial_id",
   "metadata": {
    "collapsed": true,
    "ExecuteTime": {
     "end_time": "2025-10-29T20:16:02.156117Z",
     "start_time": "2025-10-29T20:15:58.411545Z"
    }
   },
   "source": [
    "from datasets import load_dataset\n",
    "import numpy as np\n",
    "raw_ds = load_dataset('json', data_files='../training_dataset/final_dataset/dataset.jsonl')\n",
    "def process_input(example):\n",
    "    example[\"input_text\"] += f'section: {example[\"section\"]},\\ncounty: {example[\"county\"]},\\nparcel_id: {example[\"parcel_id\"]}'\n",
    "    #example[\"output_text\"] = re.sub(r\"county.*?\\n\", \"\", example[\"output_text\"])\n",
    "    return example\n",
    "\n",
    "def process_ds(dataset):\n",
    "    #dataset = dataset.select_columns(['input_text', 'output_text', 'output_empty', 'label'])\n",
    "    #dataset = dataset.filter(lambda example: example[\"output_empty\"] == False)\n",
    "    dataset = dataset.map(process_input)\n",
    "    dataset = dataset.select_columns(['section', 'input_text', 'output_text', 'label'])\n",
    "\n",
    "    return dataset\n",
    "\n",
    "cos_ds = process_ds(raw_ds[\"train\"])\n",
    "\n",
    "#train_test_split without data leakage\n",
    "from sklearn.model_selection import train_test_split\n",
    "from datasets import DatasetDict\n",
    "ids = np.arange(len(cos_ds))[:-1:2]\n",
    "train_id, test_id = train_test_split(\n",
    "    ids,\n",
    "    train_size=0.8,\n",
    "    random_state=42\n",
    ")\n",
    "\n",
    "rng = np.random.default_rng(seed = 42)\n",
    "train_id_adj = train_id + 1\n",
    "train_id = np.append(train_id, train_id_adj)\n",
    "rng.shuffle(train_id)\n",
    "test_id_adj = test_id + 1\n",
    "test_id  = np.append(test_id, test_id_adj)\n",
    "rng.shuffle(test_id)\n",
    "cos_alt_ds = DatasetDict({\n",
    "    \"train\": cos_ds.select(train_id),\n",
    "    \"test\": cos_ds.select(test_id)\n",
    "})\n",
    "cos_ds = cos_alt_ds\n",
    "cos_eval = cos_ds[\"test\"]\n",
    "#\n",
    "\n",
    "# cos_ds = cos_ds.train_test_split(test_size=0.2, seed = 42) #possible data leakage\n",
    "# cos_eval = cos_ds[\"test\"]\n",
    "print(np.any(np.isin(train_id, test_id)))\n",
    "np.sort(test_id)[:7]"
   ],
   "outputs": [
    {
     "name": "stdout",
     "output_type": "stream",
     "text": [
      "False\n"
     ]
    },
    {
     "data": {
      "text/plain": [
       "array([ 4,  5, 14, 15, 20, 21, 46])"
      ]
     },
     "execution_count": 1,
     "metadata": {},
     "output_type": "execute_result"
    }
   ],
   "execution_count": 1
  },
  {
   "metadata": {
    "ExecuteTime": {
     "end_time": "2025-10-29T20:18:23.829500Z",
     "start_time": "2025-10-29T20:18:23.819269Z"
    }
   },
   "cell_type": "code",
   "source": [
    "import torch.nn as nn\n",
    "import torch\n",
    "from torch.utils.data import TensorDataset, DataLoader\n",
    "import itertools\n",
    "class DeepClassifier(nn.Module):\n",
    "    def __init__(self, feature_in):\n",
    "        super().__init__()\n",
    "        self.model = nn.Sequential(\n",
    "            nn.Linear(in_features=feature_in, out_features=768*2, bias = False), #-4 because conv kernel3 twice\n",
    "            nn.Softplus(),\n",
    "            # nn.Linear(in_features=768*2, out_features=768*2, bias = False),\n",
    "            # nn.Softplus(),\n",
    "            nn.Linear(in_features=768*2, out_features=768, bias = False),\n",
    "            nn.Softplus(),\n",
    "            nn.Linear(in_features=768, out_features=1, bias = False),\n",
    "            nn.Sigmoid()\n",
    "        )\n",
    "\n",
    "    def train_model(self,\n",
    "                    train_feature_tensor:torch.Tensor,\n",
    "                    train_label_tensor:torch.Tensor,\n",
    "                    test_feature_tensor:torch.Tensor,\n",
    "                    test_label_tensor:torch.Tensor,\n",
    "                    batch_size:int,\n",
    "                    train_steps:int,\n",
    "                    eval_schedule:int):\n",
    "\n",
    "        eval_steps = test_label_tensor.shape[0] // batch_size\n",
    "        optimizer = torch.optim.AdamW(self.model.parameters(), lr=0.001) #maybe muon\n",
    "        loss = nn.MSELoss()\n",
    "        device = torch.device(\"cuda\" if torch.cuda.is_available() else \"cpu\")\n",
    "        self.model.to(device)\n",
    "        cum_loss = 0\n",
    "\n",
    "        train_dataset = TensorDataset(train_feature_tensor, train_label_tensor)\n",
    "        train_loader = itertools.cycle(DataLoader(train_dataset, batch_size=batch_size))\n",
    "\n",
    "        for step in range(train_steps):\n",
    "            optimizer.zero_grad()\n",
    "            #train_batch = train_feature_tensor[ batch_size*step : batch_size*(step+1)].to(device)\n",
    "            #train_label = train_label_tensor[ batch_size*step : batch_size*(step+1)].to(device)\n",
    "            train_batch, train_label= next(train_loader)\n",
    "            train_batch =  train_batch.to(device)\n",
    "            train_label =  train_label.to(device)\n",
    "            prediction = torch.squeeze(self.model(train_batch))\n",
    "\n",
    "            los = loss(prediction, train_label)\n",
    "            cum_loss += los.item()\n",
    "            los.backward()\n",
    "            optimizer.step()\n",
    "\n",
    "            if step % eval_schedule == 0:\n",
    "                total_loss = 0\n",
    "                for eval_step in range(eval_steps):\n",
    "                    with torch.no_grad():\n",
    "                        eval_batch = test_feature_tensor[ batch_size*eval_step : batch_size*(eval_step+1)].to(device)\n",
    "                        eval_label = test_label_tensor[ batch_size*eval_step : batch_size*(eval_step+1)].to(device)\n",
    "                        prediction = torch.squeeze(self.model(eval_batch))\n",
    "\n",
    "                        total_loss += loss(prediction, eval_label).item()\n",
    "                print(f\"step: {step}\\ntrain avg loss on batch: {cum_loss/eval_steps}\\neval avg loss on batch: {total_loss/eval_steps}\")\n",
    "                cum_loss = 0\n",
    "\n",
    "    def forward(self, x):\n",
    "        device = torch.device(\"cuda\" if torch.cuda.is_available() else \"cpu\")\n",
    "        with torch.no_grad():\n",
    "            x = x.to(device)\n",
    "            return self.model(x.to(device)).cpu().detach().numpy()\n",
    "\n",
    "    def predict_proba(self, x):\n",
    "        return self.model(x)\n"
   ],
   "id": "8a422804f5fdb811",
   "outputs": [],
   "execution_count": 10
  },
  {
   "metadata": {
    "ExecuteTime": {
     "end_time": "2025-10-29T20:16:10.806672Z",
     "start_time": "2025-10-29T20:16:09.709168Z"
    }
   },
   "cell_type": "code",
   "source": [
    "from sklearn.linear_model import LogisticRegression\n",
    "from sklearn.metrics import precision_recall_curve, roc_curve, roc_auc_score, PrecisionRecallDisplay\n",
    "import torch\n",
    "import pandas as pd\n",
    "import matplotlib.pyplot as plt\n",
    "import seaborn as sns\n",
    "from datasets import Dataset\n",
    "import transformers\n",
    "\n",
    "class HugeReporter:\n",
    "    def __init__(self, model, train_set, test_set):\n",
    "        #evaluated model\n",
    "        self.model = model\n",
    "        #corpus of text, with embed_set -> corpus of embeddings (dict)\n",
    "        self.train_set = train_set\n",
    "        self.test_set = test_set\n",
    "        #pd dataframes with distances\n",
    "        self._stat_df = None\n",
    "        self._eval_df = None\n",
    "\n",
    "        self.sections = None\n",
    "        self._classification_module = None\n",
    "        self._distances = [\"l1_dist\", \"l2_dist\", \"l_inf_dist\", \"cos_dist\", \"inf_1_ratio\", \"inf_2_ratio\", \"inf_cos_ratio\"]\n",
    "        self._embedding_sizes = [128, 256, 512, 768]\n",
    "\n",
    "    @staticmethod\n",
    "    def embedding_generator(dataset, prompt_use = \"STS\"):\n",
    "        \"\"\"\n",
    "        embed train and test sets info train_set and test_set vars\n",
    "        \"\"\"\n",
    "        embedding_dict = {}\n",
    "        for col in ['input_text', 'output_text']:\n",
    "            embeddings = model.encode(dataset[col],\n",
    "                                            prompt_name=prompt_use,\n",
    "                                            #show_progress_bar = False,\n",
    "                                            convert_to_numpy = False,\n",
    "                                            batch_size = 4\n",
    "                                           )\n",
    "\n",
    "            embedding_dict[col] = torch.stack(embeddings)\n",
    "            embedding_dict[\"label\"] = dataset[\"label\"]\n",
    "            embedding_dict[\"section\"] = dataset[\"section\"]\n",
    "        return embedding_dict\n",
    "\n",
    "    @staticmethod\n",
    "    def statistic(batch, embed_size:int = 768, drop_embeds:bool = True):\n",
    "        \"\"\"\n",
    "        calculate embedding distances in different space distances in different spaces\n",
    "        \"\"\"\n",
    "        #(128, 256, 512, 768) - matryoshka sizes\n",
    "        l_dif = batch['input_text'][:, :embed_size] - batch['output_text'][:, :embed_size]\n",
    "\n",
    "        l1_dist = torch.linalg.norm(l_dif, ord =1, dim = 1)\n",
    "        l2_dist = torch.linalg.norm(l_dif, ord =2, dim = 1)\n",
    "        l_inf_dist = torch.linalg.norm(l_dif, ord = torch.inf, dim = 1)\n",
    "        cos_estimator = torch.nn.CosineSimilarity(dim=1, eps=1e-08)\n",
    "        cos_dist = 1 - cos_estimator(batch['input_text'], batch['output_text'])\n",
    "\n",
    "        if drop_embeds:\n",
    "            batch.pop('input_text')\n",
    "            batch.pop('output_text')\n",
    "\n",
    "        batch[f'l1_dist_{embed_size}'] = l1_dist.cpu().detach().numpy()\n",
    "        batch[f'l2_dist_{embed_size}'] = l2_dist.cpu().detach().numpy()\n",
    "        batch[f'l_inf_dist_{embed_size}'] = l_inf_dist.cpu().detach().numpy()\n",
    "        batch[f'cos_dist_{embed_size}'] = cos_dist.cpu().detach().numpy()\n",
    "        batch[f'inf_1_ratio_{embed_size}'] = batch[f'l_inf_dist_{embed_size}'] / batch[f'l1_dist_{embed_size}']\n",
    "        batch[f'inf_2_ratio_{embed_size}'] = batch[f'l_inf_dist_{embed_size}'] / batch[f'l2_dist_{embed_size}']\n",
    "        batch[f'inf_cos_ratio_{embed_size}'] = batch[f'l_inf_dist_{embed_size}'] / batch[f'cos_dist_{embed_size}']\n",
    "\n",
    "        return batch #input_text, output_text, distances, label\n",
    "\n",
    "    def embed_set(self):\n",
    "        \"\"\"\n",
    "        embed train and test sets info train_set and test_set vars\n",
    "        \"\"\"\n",
    "        self.train_set = self.embedding_generator(self.train_set)\n",
    "        self.test_set = self.embedding_generator(self.test_set)\n",
    "\n",
    "    def embed_distances(self, embed_sizes:list[int]|None = None):\n",
    "        \"\"\"\n",
    "        calculate embedding distances in different space distances in different spaces\n",
    "        \"\"\"\n",
    "        if embed_sizes is None:\n",
    "            embed_sizes = self._embedding_sizes\n",
    "\n",
    "        for embed_size in embed_sizes:\n",
    "            #train\n",
    "            stat_ds = self.statistic(self.train_set.copy(), embed_size = embed_size)\n",
    "            if self._stat_df is None:\n",
    "                self._stat_df = pd.DataFrame.from_dict(stat_ds)\n",
    "            else:\n",
    "                self._stat_df = pd.concat((self._stat_df, pd.DataFrame.from_dict(stat_ds).drop(columns = ['label', 'section'])), axis = 1)\n",
    "            #test\n",
    "            stat_ds = self.statistic(self.test_set.copy(), embed_size = embed_size)\n",
    "            if self._eval_df is None:\n",
    "                self._eval_df = pd.DataFrame.from_dict(stat_ds)\n",
    "            else:\n",
    "                self._eval_df = pd.concat((self._eval_df, pd.DataFrame.from_dict(stat_ds).drop(columns = ['label', 'section'])), axis = 1)\n",
    "\n",
    "        self.sections = self._stat_df[\"section\"].unique()\n",
    "\n",
    "    def plot_pairplots(self, set_type:str, sections:list[str]|None|str = None, embed_sizes:list[int]|None =None):\n",
    "        \"\"\"\n",
    "        plots distance paired distributions for selected set(str) ('train' / 'test'); sections(list(str from section type) | 'All' takes all possible); embedding size(list[0 < int <= 768])\n",
    "        \"\"\"\n",
    "        if set_type == 'train':\n",
    "            plot_df = self._stat_df\n",
    "        elif set_type == 'test':\n",
    "            plot_df = self._eval_df\n",
    "        else:\n",
    "            raise ValueError(f'set_type must be \"train\" or \"test\"')\n",
    "\n",
    "        if embed_sizes is None:\n",
    "            embed_sizes = [768]\n",
    "\n",
    "        #in case, if user didn't calculate them before\n",
    "        if plot_df is None:\n",
    "            self.embed_distances(embed_sizes = embed_sizes)\n",
    "\n",
    "        #if sections aren't provided not select any\n",
    "        if sections == \"All\":\n",
    "            sections = self.sections\n",
    "        if sections is None:\n",
    "            section_counter = 1\n",
    "        else:\n",
    "            section_counter = len(sections)\n",
    "\n",
    "        for section_id in range(section_counter):\n",
    "            #if sections aren't provided not select any\n",
    "            if sections is not None:\n",
    "                print(f\"Section: {sections[section_id]}\")\n",
    "                to_plot_df = plot_df[plot_df['section'] == sections[section_id]]\n",
    "            else:\n",
    "                to_plot_df = plot_df\n",
    "\n",
    "            for embed_size in embed_sizes:\n",
    "                print(f'embedding size {embed_size}')\n",
    "                sns.pairplot(\n",
    "                    to_plot_df[\n",
    "                        [\"label\"] +\n",
    "                        list(\n",
    "                            map(\n",
    "                                lambda item:\n",
    "                                item + f\"_{embed_size}\",\n",
    "                                [\"l1_dist\", \"l2_dist\", \"l_inf_dist\", \"cos_dist\", \"inf_1_ratio\", \"inf_2_ratio\", \"inf_cos_ratio\"]))\n",
    "                    ],\n",
    "                    hue = 'label'\n",
    "                )\n",
    "                plt.show()\n",
    "\n",
    "    def _train_model(self, model, train_set, test_set = None, steps = None, batch_size = None, eval_scheduler = None):\n",
    "        if isinstance(model, LogisticRegression):\n",
    "            train_X, train_y = train_set.drop(columns = ['label']), train_set['label']\n",
    "            model.fit(train_X, train_y)\n",
    "\n",
    "\n",
    "        elif isinstance(model, torch.nn.Module):\n",
    "            train_X, train_y = train_set['features'], train_set['label']\n",
    "            test_X, test_y = test_set['features'], test_set['label']\n",
    "            model.train_model(\n",
    "                train_X,\n",
    "                train_y,\n",
    "                test_X,\n",
    "                test_y,\n",
    "                batch_size,\n",
    "                steps,\n",
    "                eval_scheduler\n",
    "            )\n",
    "\n",
    "        else:\n",
    "            raise ValueError\n",
    "        return model\n",
    "\n",
    "    def _evaluate_model(self, model, test_set):\n",
    "        if isinstance(self._classification_module, LogisticRegression):\n",
    "            test_X, test_y = test_set.drop(columns = ['label']), test_set['label']\n",
    "            y_pred = model.predict_proba(test_X)[:, 1]\n",
    "        elif isinstance(model, nn.Module):\n",
    "            test_X, test_y = test_set['features'], test_set['label'].numpy()\n",
    "            y_pred = model(test_X)\n",
    "        elif model is None:\n",
    "            y_pred, test_y = 1-test_set['cos_dist_768'], test_set['label']\n",
    "        else:\n",
    "            raise ValueError\n",
    "\n",
    "        precision, recall, thresholds = precision_recall_curve(test_y, y_pred)\n",
    "        roc_auc = roc_auc_score(test_y, y_pred)\n",
    "        fpr, tpr, threshold = roc_curve(test_y, y_pred)\n",
    "\n",
    "        sns.lineplot(x = fpr, y = tpr)\n",
    "        plt.show()\n",
    "        disp = PrecisionRecallDisplay(precision, recall)\n",
    "        disp.plot()\n",
    "        plt.show()\n",
    "\n",
    "        print(\"roc_auc: \",roc_auc)\n",
    "\n",
    "        f1_scores = 2 * (precision * recall) / (precision + recall + 1e-7)\n",
    "        print(f\"best f1: {np.max(f1_scores)}\\nthreshold: {thresholds[np.argmax(f1_scores-1)]}\")#id starts from 1, HAHAHAHAHAHAH\n",
    "\n",
    "    def classification_model_report(self, type:str|None ='lr', steps:int|None = None, batch_size:int|None = None, eval_scheduler:int|None = None, sections:list[str]|None = None):\n",
    "        \"\"\"\n",
    "        type defines the model, lr - LogisticRegression\n",
    "        \"\"\"\n",
    "\n",
    "        if self._stat_df is None:\n",
    "            self.embed_distances()\n",
    "\n",
    "        #define classification model\n",
    "        if type == 'lr':\n",
    "            model = LogisticRegression()\n",
    "\n",
    "        elif type == 'nn': #to change name\n",
    "            model = DeepClassifier(self.train_set['input_text'][0].shape[0]*2 + len(self._distances) * len(self._embedding_sizes))\n",
    "        elif type is None:\n",
    "            model = None\n",
    "        else:\n",
    "            raise ValueError(f\"type of model {type} isn't implemented\")\n",
    "\n",
    "        #if sections aren't provided don't select any\n",
    "        if sections is None:\n",
    "            section_counter = 1\n",
    "        else:\n",
    "            section_counter = len(sections)\n",
    "\n",
    "        if isinstance(model, LogisticRegression) or model is None: # to change on generic sklearn class\n",
    "            for section_id in range(section_counter):\n",
    "                #if sections aren't provided don't select any\n",
    "                if sections is not None:\n",
    "                    print(\"Section: \", sections[section_id])\n",
    "                    train_df = self._stat_df[self._stat_df['section'] == sections[section_id]].drop(columns = ['section'])\n",
    "                    test_df = self._eval_df[self._eval_df['section'] == sections[section_id]].drop(columns = ['section'])\n",
    "                else:\n",
    "                    train_df = self._stat_df.drop(columns = ['section'])\n",
    "                    test_df = self._eval_df.drop(columns = ['section'])\n",
    "\n",
    "                if model is not None:\n",
    "                    self._classification_module= self._train_model(model, train_df)\n",
    "                else:\n",
    "                    self._classification_module=None\n",
    "\n",
    "                self._evaluate_model(self._classification_module, test_df)\n",
    "\n",
    "        elif isinstance(model, nn.Module):\n",
    "            #train tensor\n",
    "            metrics_tensor = torch.Tensor(self._stat_df.drop(columns = ['label', 'section']).to_numpy())\n",
    "            try:\n",
    "                metrics_tensor = torch.cat((metrics_tensor, self.train_set['input_text'], self.train_set['output_text']), dim = 1)\n",
    "            except:\n",
    "                self.train_set['input_text'] = self.train_set['input_text'].cpu().detach()\n",
    "                self.train_set['output_text'] = self.train_set['output_text'].cpu().detach()\n",
    "                metrics_tensor = torch.cat((metrics_tensor, self.train_set['input_text'], self.train_set['output_text']), dim = 1)\n",
    "            train_set = {\"features\": metrics_tensor,\n",
    "                         \"label\": torch.tensor(self.train_set[\"label\"][:], dtype=torch.float)\n",
    "                         }\n",
    "            #test tensor\n",
    "            metrics_tensor = torch.Tensor(self._eval_df.drop(columns = ['label', 'section']).to_numpy())\n",
    "            try:\n",
    "                metrics_tensor = torch.cat((metrics_tensor, self.test_set['input_text'], self.test_set['output_text']), dim = 1)\n",
    "            except:\n",
    "                self.test_set['input_text'] = self.test_set['input_text'].cpu().detach()\n",
    "                self.test_set['output_text'] = self.test_set['output_text'].cpu().detach()\n",
    "                metrics_tensor = torch.cat((metrics_tensor, self.test_set['input_text'], self.test_set['output_text']), dim = 1)\n",
    "\n",
    "            test_set = {\"features\": metrics_tensor,\n",
    "                         \"label\": torch.tensor(self.test_set[\"label\"][:], dtype=torch.float)\n",
    "                         }\n",
    "\n",
    "            self._classification_module=self._train_model(model, train_set, test_set, steps, batch_size, eval_scheduler)\n",
    "            self._evaluate_model(self._classification_module, test_set)\n",
    "\n",
    "        else:\n",
    "            raise ValueError(f\"type of model {type} isn't implemented in section selecting\")\n"
   ],
   "id": "17d761c2700215d4",
   "outputs": [],
   "execution_count": 3
  },
  {
   "metadata": {
    "ExecuteTime": {
     "end_time": "2025-10-29T16:46:29.703180Z",
     "start_time": "2025-10-29T16:46:29.699720Z"
    }
   },
   "cell_type": "code",
   "source": [
    "#micro test just in changing county:\n",
    "import random\n",
    "random.seed(42)\n",
    "\n",
    "def country_change(example):\n",
    "    counties_to_sample = ['Autauga', 'Cook', 'Harris', 'Maricopa', 'San Diego', 'Orange', 'Collier', 'Kings', 'Dallas']\n",
    "    states_to_sample = ['AL', 'IL', 'TX', 'AZ', 'CA', 'CA', 'FL', 'NY', 'TX']\n",
    "    #change county in each row\n",
    "    idx = list(range(len(counties_to_sample)))\n",
    "    sample_id = random.choice(idx)\n",
    "    example[\"input_text\"] = example[\"input_text\"].replace(\"Collier\", counties_to_sample[sample_id])\n",
    "    example[\"input_text\"] = example[\"input_text\"].replace(\"FL\", states_to_sample[sample_id])\n",
    "\n",
    "    #change county in output\n",
    "    if \"Collier\" in example[\"output_text\"]:\n",
    "        example[\"output_text\"] = example[\"output_text\"].replace(\"Collier\", counties_to_sample[sample_id])\n",
    "        example[\"output_text\"] = example[\"output_text\"].replace(\"FL\", states_to_sample[sample_id])\n",
    "\n",
    "        if example[\"label\"] == 1:\n",
    "            if random.choice([0, 1, 2]) == 1:\n",
    "\n",
    "                random_counties = idx.copy()\n",
    "                random_counties.remove(sample_id)\n",
    "\n",
    "                example[\"output_text\"] = example[\"output_text\"].replace(\"Collier\", counties_to_sample[random.choice(random_counties)])\n",
    "                example[\"output_text\"] = example[\"output_text\"].replace(\"FL\", states_to_sample[random.choice(idx)])\n",
    "\n",
    "\n",
    "                example[\"label\"] =0\n",
    "\n",
    "    return example\n",
    "cos_ds = cos_ds.map(country_change)"
   ],
   "id": "cf8ecc0dead8b90b",
   "outputs": [],
   "execution_count": 28
  },
  {
   "metadata": {},
   "cell_type": "markdown",
   "source": "SOTA statistics",
   "id": "c657eb91a069a2a2"
  },
  {
   "metadata": {
    "ExecuteTime": {
     "end_time": "2025-10-29T20:16:21.010673Z",
     "start_time": "2025-10-29T20:16:12.360412Z"
    }
   },
   "cell_type": "code",
   "source": [
    "#define sota model\n",
    "from sentence_transformers import SentenceTransformer\n",
    "model = SentenceTransformer(\"mancer146/embeddinggemma-300m-haystack-contrastive-thin-fixed\") #\"google/embeddinggemma-300m\"\n",
    "#essential parameters: prompt = \"STS\"\n",
    "prompt_use = \"STS\"\n",
    "reporter = HugeReporter(model,\n",
    "                        cos_ds[\"train\"],\n",
    "                        cos_ds[\"test\"])\n",
    "#essential parameters: prompt = \"STS\""
   ],
   "id": "2fe37c48457f5d71",
   "outputs": [],
   "execution_count": 4
  },
  {
   "metadata": {
    "ExecuteTime": {
     "end_time": "2025-10-29T20:17:40.508454Z",
     "start_time": "2025-10-29T20:16:21.015131Z"
    }
   },
   "cell_type": "code",
   "source": "reporter.embed_set()",
   "id": "9ab9c56954a2aa86",
   "outputs": [],
   "execution_count": 5
  },
  {
   "metadata": {
    "ExecuteTime": {
     "end_time": "2025-10-29T20:17:41.104439Z",
     "start_time": "2025-10-29T20:17:40.528744Z"
    }
   },
   "cell_type": "code",
   "source": "reporter.embed_distances()",
   "id": "ce871792d1da4254",
   "outputs": [],
   "execution_count": 6
  },
  {
   "metadata": {},
   "cell_type": "code",
   "source": "reporter.plot_pairplots(set_type= \"test\", sections = \"All\",embed_sizes=[768])",
   "id": "f8c295e78aa3acd",
   "outputs": [],
   "execution_count": null
  },
  {
   "metadata": {
    "ExecuteTime": {
     "end_time": "2025-10-29T20:17:41.477546Z",
     "start_time": "2025-10-29T20:17:41.112256Z"
    }
   },
   "cell_type": "code",
   "source": "reporter.classification_model_report(type=None)",
   "id": "56597d12d9d1eaec",
   "outputs": [
    {
     "data": {
      "text/plain": [
       "<Figure size 640x480 with 1 Axes>"
      ],
      "image/png": "[encoded data removed]"
     },
     "metadata": {},
     "output_type": "display_data"
    },
    {
     "data": {
      "text/plain": [
       "<Figure size 640x480 with 1 Axes>"
      ],
      "image/png": "[encoded data removed]"
     },
     "metadata": {},
     "output_type": "display_data"
    },
    {
     "name": "stdout",
     "output_type": "stream",
     "text": [
      "roc_auc:  0.9741555555555556\n",
      "best f1: 0.9570956595758612\n",
      "threshold: 0.9849652051925659\n"
     ]
    }
   ],
   "execution_count": 7
  },
  {
   "metadata": {
    "ExecuteTime": {
     "end_time": "2025-10-29T20:24:04.190499Z",
     "start_time": "2025-10-29T20:24:01.358238Z"
    }
   },
   "cell_type": "code",
   "source": "reporter.classification_model_report(type='nn', steps = 750, batch_size=64, eval_scheduler=150)#, sections = reporter.sections)",
   "id": "95003a6165900ff1",
   "outputs": [
    {
     "name": "stdout",
     "output_type": "stream",
     "text": [
      "step: 0\n",
      "train avg loss on batch: 0.06166841462254524\n",
      "eval avg loss on batch: 0.27216555923223495\n",
      "step: 150\n",
      "train avg loss on batch: 1.5685450180171756\n",
      "eval avg loss on batch: 0.059900492429733276\n",
      "step: 300\n",
      "train avg loss on batch: 0.746684777480823\n",
      "eval avg loss on batch: 0.046107240952551365\n",
      "step: 450\n",
      "train avg loss on batch: 0.6560919483958969\n",
      "eval avg loss on batch: 0.042589270044118166\n",
      "step: 600\n",
      "train avg loss on batch: 0.6160752159366893\n",
      "eval avg loss on batch: 0.043823071755468845\n"
     ]
    },
    {
     "data": {
      "text/plain": [
       "<Figure size 640x480 with 1 Axes>"
      ],
      "image/png": "[encoded data removed]"
     },
     "metadata": {},
     "output_type": "display_data"
    },
    {
     "data": {
      "text/plain": [
       "<Figure size 640x480 with 1 Axes>"
      ],
      "image/png": "[encoded data removed]"
     },
     "metadata": {},
     "output_type": "display_data"
    },
    {
     "name": "stdout",
     "output_type": "stream",
     "text": [
      "roc_auc:  0.9742444444444445\n",
      "best f1: 0.9477123683198796\n",
      "threshold: 0.4052361845970154\n"
     ]
    }
   ],
   "execution_count": 31
  },
  {
   "metadata": {
    "ExecuteTime": {
     "end_time": "2025-10-28T18:31:42.744398Z",
     "start_time": "2025-10-28T18:31:28.942685Z"
    }
   },
   "cell_type": "code",
   "source": [
    "#define default model\n",
    "from huggingface_hub import notebook_login\n",
    "notebook_login()\n",
    "model = SentenceTransformer(\"google/embeddinggemma-300m\") #\"google/embeddinggemma-300m\"\n",
    "#essential parameters: prompt = \"STS\"\n",
    "prompt_use = \"STS\"\n",
    "reporter = HugeReporter(model,\n",
    "                        cos_ds[\"train\"],\n",
    "                        cos_ds[\"test\"])"
   ],
   "id": "6c7a3609962e5e2c",
   "outputs": [
    {
     "data": {
      "text/plain": [
       "VBox(children=(HTML(value='<center> <img\\nsrc=https://huggingface.co/front/assets/huggingface_logo-noborder.sv…"
      ],
      "application/vnd.jupyter.widget-view+json": {
       "version_major": 2,
       "version_minor": 0,
       "model_id": "a6a2501ff1984224ab8ec9a6519c3e8f"
      }
     },
     "metadata": {},
     "output_type": "display_data"
    }
   ],
   "execution_count": 107
  },
  {
   "metadata": {
    "ExecuteTime": {
     "end_time": "2025-10-28T18:33:12.517683Z",
     "start_time": "2025-10-28T18:31:55.107042Z"
    }
   },
   "cell_type": "code",
   "source": "reporter.embed_set()",
   "id": "4940a651bb759750",
   "outputs": [],
   "execution_count": 108
  },
  {
   "metadata": {
    "ExecuteTime": {
     "end_time": "2025-10-28T18:33:13.173177Z",
     "start_time": "2025-10-28T18:33:12.571781Z"
    }
   },
   "cell_type": "code",
   "source": "reporter.embed_distances()",
   "id": "3c19fe448b35c586",
   "outputs": [],
   "execution_count": 109
  },
  {
   "metadata": {},
   "cell_type": "code",
   "source": [
    "reporter.plot_pairplots(set_type= \"test\",\n",
    "                        #sections= \"All\",\n",
    "                        embed_sizes = [128,256, 512, 768])"
   ],
   "id": "75509843b363d339",
   "outputs": [],
   "execution_count": null
  },
  {
   "metadata": {
    "ExecuteTime": {
     "end_time": "2025-10-28T18:35:05.444909Z",
     "start_time": "2025-10-28T18:35:04.207763Z"
    }
   },
   "cell_type": "code",
   "source": "reporter.classification_model_report()",
   "id": "db936f26935405b7",
   "outputs": [
    {
     "data": {
      "text/plain": [
       "<Figure size 640x480 with 1 Axes>"
      ],
      "image/png": "[encoded data removed]"
     },
     "metadata": {},
     "output_type": "display_data"
    },
    {
     "data": {
      "text/plain": [
       "<Figure size 640x480 with 1 Axes>"
      ],
      "image/png": "[encoded data removed]"
     },
     "metadata": {},
     "output_type": "display_data"
    },
    {
     "name": "stdout",
     "output_type": "stream",
     "text": [
      "roc_auc:  0.6972222222222223\n"
     ]
    }
   ],
   "execution_count": 111
  }
 ],
 "metadata": {
  "kernelspec": {
   "display_name": "Python 3",
   "language": "python",
   "name": "python3"
  },
  "language_info": {
   "codemirror_mode": {
    "name": "ipython",
    "version": 2
   },
   "file_extension": ".py",
   "mimetype": "text/x-python",
   "name": "python",
   "nbconvert_exporter": "python",
   "pygments_lexer": "ipython2",
   "version": "2.7.6"
  }
 },
 "nbformat": 4,
 "nbformat_minor": 5
}
